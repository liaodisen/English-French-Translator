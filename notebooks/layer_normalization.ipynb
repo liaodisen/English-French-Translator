{
 "cells": [
  {
   "cell_type": "markdown",
   "metadata": {},
   "source": [
    "### Layer Normalization\n",
    "\n"
   ]
  },
  {
   "cell_type": "code",
   "execution_count": 1,
   "metadata": {},
   "outputs": [],
   "source": [
    "import torch\n",
    "from torch import nn"
   ]
  },
  {
   "cell_type": "code",
   "execution_count": 2,
   "metadata": {},
   "outputs": [
    {
     "data": {
      "text/plain": [
       "torch.Size([2, 1, 3])"
      ]
     },
     "execution_count": 2,
     "metadata": {},
     "output_type": "execute_result"
    }
   ],
   "source": [
    "inputs = torch.Tensor([[[0.2, 0.1, 0.3], [0.5, 0.1, 0.1]]])\n",
    "B, S, E = inputs.size()\n",
    "inputs = inputs.reshape(S, B, E)\n",
    "inputs.size()"
   ]
  },
  {
   "cell_type": "code",
   "execution_count": 3,
   "metadata": {},
   "outputs": [
    {
     "name": "stdout",
     "output_type": "stream",
     "text": [
      "torch.Size([1, 3]) torch.Size([1, 3])\n"
     ]
    }
   ],
   "source": [
    "parameter_shape = inputs.size()[-2:]\n",
    "gamma = nn.Parameter(torch.ones(parameter_shape))\n",
    "beta = nn.Parameter(torch.zeros(parameter_shape))\n",
    "print(gamma.size(), beta.size())"
   ]
  },
  {
   "cell_type": "code",
   "execution_count": 4,
   "metadata": {},
   "outputs": [
    {
     "data": {
      "text/plain": [
       "[-1, -2]"
      ]
     },
     "execution_count": 4,
     "metadata": {},
     "output_type": "execute_result"
    }
   ],
   "source": [
    "dims = [-(i+1) for i in range(len(parameter_shape))]\n",
    "dims"
   ]
  },
  {
   "cell_type": "code",
   "execution_count": 5,
   "metadata": {},
   "outputs": [
    {
     "data": {
      "text/plain": [
       "torch.Size([2, 1, 1])"
      ]
     },
     "execution_count": 5,
     "metadata": {},
     "output_type": "execute_result"
    }
   ],
   "source": [
    "mean = inputs.mean(dim=dims, keepdim=True)\n",
    "mean.size()"
   ]
  },
  {
   "cell_type": "code",
   "execution_count": 6,
   "metadata": {},
   "outputs": [
    {
     "data": {
      "text/plain": [
       "tensor([[[0.0817]],\n",
       "\n",
       "        [[0.1886]]])"
      ]
     },
     "execution_count": 6,
     "metadata": {},
     "output_type": "execute_result"
    }
   ],
   "source": [
    "var = ((inputs - mean) ** 2).mean(dim = dims, keepdim=True)\n",
    "epsilon = 1e-5\n",
    "std = (var + epsilon).sqrt()\n",
    "std"
   ]
  },
  {
   "cell_type": "code",
   "execution_count": 7,
   "metadata": {},
   "outputs": [
    {
     "data": {
      "text/plain": [
       "tensor([[[ 0.0000, -1.2238,  1.2238]],\n",
       "\n",
       "        [[ 1.4140, -0.7070, -0.7070]]])"
      ]
     },
     "execution_count": 7,
     "metadata": {},
     "output_type": "execute_result"
    }
   ],
   "source": [
    "y = (inputs - mean) / std\n",
    "y"
   ]
  },
  {
   "cell_type": "code",
   "execution_count": 8,
   "metadata": {},
   "outputs": [
    {
     "data": {
      "text/plain": [
       "tensor([[[ 0.0000, -1.2238,  1.2238]],\n",
       "\n",
       "        [[ 1.4140, -0.7070, -0.7070]]], grad_fn=<AddBackward0>)"
      ]
     },
     "execution_count": 8,
     "metadata": {},
     "output_type": "execute_result"
    }
   ],
   "source": [
    "out = gamma * y + beta\n",
    "out"
   ]
  },
  {
   "cell_type": "code",
   "execution_count": 9,
   "metadata": {},
   "outputs": [],
   "source": [
    "import torch\n",
    "from torch import nn\n",
    "\n",
    "class LayerNormalization():\n",
    "    def __init__(self, parameters_shape, eps=1e-5):\n",
    "        self.parameters_shape=parameters_shape\n",
    "        self.eps=eps\n",
    "        self.gamma = nn.Parameter(torch.ones(parameters_shape))\n",
    "        self.beta =  nn.Parameter(torch.zeros(parameters_shape))\n",
    "\n",
    "    def forward(self, input):\n",
    "        dims = [-(i + 1) for i in range(len(self.parameters_shape))]\n",
    "        mean = inputs.mean(dim=dims, keepdim=True)\n",
    "        print(f\"Mean \\n ({mean.size()}): \\n {mean}\")\n",
    "        var = ((inputs - mean) ** 2).mean(dim=dims, keepdim=True)\n",
    "        std = (var + self.eps).sqrt()\n",
    "        print(f\"Standard Deviation \\n ({std.size()}): \\n {std}\")\n",
    "        y = (inputs - mean) / std\n",
    "        print(f\"y \\n ({y.size()}) = \\n {y}\")\n",
    "        out = self.gamma * y  + self.beta\n",
    "        print(f\"out \\n ({out.size()}) = \\n {out}\")\n",
    "        return out"
   ]
  },
  {
   "cell_type": "code",
   "execution_count": 10,
   "metadata": {},
   "outputs": [
    {
     "name": "stdout",
     "output_type": "stream",
     "text": [
      "input \n",
      " (torch.Size([5, 3, 8])) = \n",
      " tensor([[[ 0.4238, -0.8494, -0.2418, -0.1314,  1.6148, -1.1439, -0.4703,\n",
      "          -0.0906],\n",
      "         [ 0.5904, -0.9541,  0.7285,  0.9892,  0.9337,  1.2070, -0.8387,\n",
      "           0.8825],\n",
      "         [-0.7253, -0.2724, -0.8787, -0.0711, -1.0140, -1.2031, -1.6363,\n",
      "           0.9726]],\n",
      "\n",
      "        [[-0.3037, -0.1229,  0.1466, -0.1652,  0.7835, -0.7846, -0.2860,\n",
      "          -1.7230],\n",
      "         [-0.4247,  0.9897, -1.3756, -1.1338, -0.8413,  0.9969,  0.5889,\n",
      "           1.6285],\n",
      "         [ 0.7884, -0.5712,  0.1942,  0.3323,  0.3311, -1.0986,  0.7959,\n",
      "          -0.6507]],\n",
      "\n",
      "        [[-0.5853, -0.2893, -0.1234,  0.1845,  1.0803, -2.1561,  0.8917,\n",
      "          -0.5371],\n",
      "         [ 0.5074, -1.8032, -0.0088, -0.6137, -1.4536, -0.5079, -0.0224,\n",
      "           0.3738],\n",
      "         [ 0.3341,  1.1888, -0.0369,  1.8104,  0.7141,  0.2760, -0.4513,\n",
      "          -0.1409]],\n",
      "\n",
      "        [[-0.6605, -2.6758,  0.2186, -2.3132,  0.6068,  0.8918, -1.1461,\n",
      "           0.6550],\n",
      "         [ 1.1131, -0.9203,  1.0028,  0.3092, -0.2185, -0.0515, -1.2655,\n",
      "          -1.1269],\n",
      "         [ 0.4508,  0.1346,  0.0446, -0.0898, -0.0970,  0.4385, -1.7711,\n",
      "           0.1893]],\n",
      "\n",
      "        [[-0.7345,  0.3201, -1.4568,  0.4762,  1.6846, -0.0128,  0.4161,\n",
      "          -1.1488],\n",
      "         [-1.1270, -0.3829, -0.0155,  1.0864, -1.2192, -1.0068,  0.5394,\n",
      "          -0.1511],\n",
      "         [ 2.1613, -0.4852,  1.1453, -0.9500, -0.6722,  0.3697,  0.6672,\n",
      "           0.4757]]])\n"
     ]
    }
   ],
   "source": [
    "batch_size = 3\n",
    "sentence_length = 5\n",
    "embedding_dim = 8 \n",
    "inputs = torch.randn(sentence_length, batch_size, embedding_dim)\n",
    "\n",
    "print(f\"input \\n ({inputs.size()}) = \\n {inputs}\")"
   ]
  },
  {
   "cell_type": "code",
   "execution_count": 11,
   "metadata": {},
   "outputs": [],
   "source": [
    "layer_norm = LayerNormalization(inputs.size()[-1:])"
   ]
  },
  {
   "cell_type": "code",
   "execution_count": 12,
   "metadata": {},
   "outputs": [
    {
     "name": "stdout",
     "output_type": "stream",
     "text": [
      "Mean \n",
      " (torch.Size([5, 3, 1])): \n",
      " tensor([[[-0.1111],\n",
      "         [ 0.4423],\n",
      "         [-0.6035]],\n",
      "\n",
      "        [[-0.3069],\n",
      "         [ 0.0536],\n",
      "         [ 0.0152]],\n",
      "\n",
      "        [[-0.1918],\n",
      "         [-0.4410],\n",
      "         [ 0.4618]],\n",
      "\n",
      "        [[-0.5529],\n",
      "         [-0.1447],\n",
      "         [-0.0875]],\n",
      "\n",
      "        [[-0.0570],\n",
      "         [-0.2846],\n",
      "         [ 0.3390]]])\n",
      "Standard Deviation \n",
      " (torch.Size([5, 3, 1])): \n",
      " tensor([[[0.7924],\n",
      "         [0.7917],\n",
      "         [0.7552]],\n",
      "\n",
      "        [[0.6785],\n",
      "         [1.0616],\n",
      "         [0.6584]],\n",
      "\n",
      "        [[0.9408],\n",
      "         [0.7779],\n",
      "         [0.6989]],\n",
      "\n",
      "        [[1.2969],\n",
      "         [0.8618],\n",
      "         [0.6656]],\n",
      "\n",
      "        [[0.9550],\n",
      "         [0.7716],\n",
      "         [0.9658]]])\n",
      "y \n",
      " (torch.Size([5, 3, 8])) = \n",
      " tensor([[[ 0.6751, -0.9316, -0.1650, -0.0257,  2.1780, -1.3033, -0.4533,\n",
      "           0.0259],\n",
      "         [ 0.1870, -1.7639,  0.3614,  0.6908,  0.6207,  0.9659, -1.6181,\n",
      "           0.5560],\n",
      "         [-0.1612,  0.4385, -0.3644,  0.7051, -0.5435, -0.7939, -1.3675,\n",
      "           2.0871]],\n",
      "\n",
      "        [[ 0.0046,  0.2712,  0.6684,  0.2089,  1.6072, -0.7040,  0.0308,\n",
      "          -2.0871],\n",
      "         [-0.4506,  0.8819, -1.3463, -1.1186, -0.8429,  0.8886,  0.5042,\n",
      "           1.4836],\n",
      "         [ 1.1744, -0.8906,  0.2719,  0.4817,  0.4798, -1.6916,  1.1859,\n",
      "          -1.0115]],\n",
      "\n",
      "        [[-0.4183, -0.1036,  0.0727,  0.4001,  1.3522, -2.0879,  1.1518,\n",
      "          -0.3670],\n",
      "         [ 1.2192, -1.7511,  0.5557, -0.2219, -1.3017, -0.0859,  0.5382,\n",
      "           1.0476],\n",
      "         [-0.1827,  1.0403, -0.7136,  1.9297,  0.3610, -0.2658, -1.3065,\n",
      "          -0.8623]],\n",
      "\n",
      "        [[-0.0829, -1.6369,  0.5949, -1.3573,  0.8943,  1.1140, -0.4574,\n",
      "           0.9314],\n",
      "         [ 1.4595, -0.9000,  1.3315,  0.5267, -0.0856,  0.1081, -1.3005,\n",
      "          -1.1398],\n",
      "         [ 0.8087,  0.3337,  0.1985, -0.0035, -0.0142,  0.7903, -2.5293,\n",
      "           0.4158]],\n",
      "\n",
      "        [[-0.7094,  0.3948, -1.4658,  0.5583,  1.8237,  0.0463,  0.4954,\n",
      "          -1.1433],\n",
      "         [-1.0918, -0.1274,  0.3488,  1.7767, -1.2113, -0.9359,  1.0678,\n",
      "           0.1730],\n",
      "         [ 1.8869, -0.8534,  0.8349, -1.3346, -1.0470,  0.0318,  0.3399,\n",
      "           0.1416]]])\n",
      "out \n",
      " (torch.Size([5, 3, 8])) = \n",
      " tensor([[[ 0.6751, -0.9316, -0.1650, -0.0257,  2.1780, -1.3033, -0.4533,\n",
      "           0.0259],\n",
      "         [ 0.1870, -1.7639,  0.3614,  0.6908,  0.6207,  0.9659, -1.6181,\n",
      "           0.5560],\n",
      "         [-0.1612,  0.4385, -0.3644,  0.7051, -0.5435, -0.7939, -1.3675,\n",
      "           2.0871]],\n",
      "\n",
      "        [[ 0.0046,  0.2712,  0.6684,  0.2089,  1.6072, -0.7040,  0.0308,\n",
      "          -2.0871],\n",
      "         [-0.4506,  0.8819, -1.3463, -1.1186, -0.8429,  0.8886,  0.5042,\n",
      "           1.4836],\n",
      "         [ 1.1744, -0.8906,  0.2719,  0.4817,  0.4798, -1.6916,  1.1859,\n",
      "          -1.0115]],\n",
      "\n",
      "        [[-0.4183, -0.1036,  0.0727,  0.4001,  1.3522, -2.0879,  1.1518,\n",
      "          -0.3670],\n",
      "         [ 1.2192, -1.7511,  0.5557, -0.2219, -1.3017, -0.0859,  0.5382,\n",
      "           1.0476],\n",
      "         [-0.1827,  1.0403, -0.7136,  1.9297,  0.3610, -0.2658, -1.3065,\n",
      "          -0.8623]],\n",
      "\n",
      "        [[-0.0829, -1.6369,  0.5949, -1.3573,  0.8943,  1.1140, -0.4574,\n",
      "           0.9314],\n",
      "         [ 1.4595, -0.9000,  1.3315,  0.5267, -0.0856,  0.1081, -1.3005,\n",
      "          -1.1398],\n",
      "         [ 0.8087,  0.3337,  0.1985, -0.0035, -0.0142,  0.7903, -2.5293,\n",
      "           0.4158]],\n",
      "\n",
      "        [[-0.7094,  0.3948, -1.4658,  0.5583,  1.8237,  0.0463,  0.4954,\n",
      "          -1.1433],\n",
      "         [-1.0918, -0.1274,  0.3488,  1.7767, -1.2113, -0.9359,  1.0678,\n",
      "           0.1730],\n",
      "         [ 1.8869, -0.8534,  0.8349, -1.3346, -1.0470,  0.0318,  0.3399,\n",
      "           0.1416]]], grad_fn=<AddBackward0>)\n"
     ]
    }
   ],
   "source": [
    "out = layer_norm.forward(inputs)"
   ]
  }
 ],
 "metadata": {
  "kernelspec": {
   "display_name": "base",
   "language": "python",
   "name": "python3"
  },
  "language_info": {
   "codemirror_mode": {
    "name": "ipython",
    "version": 3
   },
   "file_extension": ".py",
   "mimetype": "text/x-python",
   "name": "python",
   "nbconvert_exporter": "python",
   "pygments_lexer": "ipython3",
   "version": "3.9.7"
  }
 },
 "nbformat": 4,
 "nbformat_minor": 2
}
